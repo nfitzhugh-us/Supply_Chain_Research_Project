{
 "cells": [
  {
   "cell_type": "code",
   "execution_count": 1,
   "metadata": {},
   "outputs": [],
   "source": [
    "import pandas as pd"
   ]
  },
  {
   "cell_type": "markdown",
   "metadata": {},
   "source": [
    "# Step 0"
   ]
  },
  {
   "cell_type": "code",
   "execution_count": 2,
   "metadata": {},
   "outputs": [],
   "source": [
    "df = pd.read_excel('/Users/nickfitzhugh/Vijays project/SampleFileForNick.xlsm')\n",
    "df = df.iloc[:,:6]\n",
    "n = df.iloc[-1].GraphID # count of graphs\n",
    "GraphID_List = list(range(1,n+1))"
   ]
  },
  {
   "cell_type": "markdown",
   "metadata": {},
   "source": [
    "# Step 1"
   ]
  },
  {
   "cell_type": "code",
   "execution_count": 3,
   "metadata": {},
   "outputs": [
    {
     "data": {
      "text/html": [
       "<div>\n",
       "<style scoped>\n",
       "    .dataframe tbody tr th:only-of-type {\n",
       "        vertical-align: middle;\n",
       "    }\n",
       "\n",
       "    .dataframe tbody tr th {\n",
       "        vertical-align: top;\n",
       "    }\n",
       "\n",
       "    .dataframe thead th {\n",
       "        text-align: right;\n",
       "    }\n",
       "</style>\n",
       "<table border=\"1\" class=\"dataframe\">\n",
       "  <thead>\n",
       "    <tr style=\"text-align: right;\">\n",
       "      <th></th>\n",
       "      <th>GraphID</th>\n",
       "      <th>From</th>\n",
       "      <th>To</th>\n",
       "      <th>Prod</th>\n",
       "      <th>CostPerUnit</th>\n",
       "      <th>MaxFlow</th>\n",
       "    </tr>\n",
       "  </thead>\n",
       "  <tbody>\n",
       "    <tr>\n",
       "      <th>0</th>\n",
       "      <td>1</td>\n",
       "      <td>S1</td>\n",
       "      <td>M1</td>\n",
       "      <td>P1</td>\n",
       "      <td>1</td>\n",
       "      <td>9999</td>\n",
       "    </tr>\n",
       "    <tr>\n",
       "      <th>1</th>\n",
       "      <td>1</td>\n",
       "      <td>S2</td>\n",
       "      <td>M1</td>\n",
       "      <td>P1</td>\n",
       "      <td>1</td>\n",
       "      <td>9999</td>\n",
       "    </tr>\n",
       "    <tr>\n",
       "      <th>2</th>\n",
       "      <td>1</td>\n",
       "      <td>S3</td>\n",
       "      <td>M1</td>\n",
       "      <td>P1</td>\n",
       "      <td>1</td>\n",
       "      <td>9999</td>\n",
       "    </tr>\n",
       "    <tr>\n",
       "      <th>3</th>\n",
       "      <td>1</td>\n",
       "      <td>S1</td>\n",
       "      <td>M2</td>\n",
       "      <td>P1</td>\n",
       "      <td>1</td>\n",
       "      <td>9999</td>\n",
       "    </tr>\n",
       "    <tr>\n",
       "      <th>4</th>\n",
       "      <td>1</td>\n",
       "      <td>S2</td>\n",
       "      <td>M2</td>\n",
       "      <td>P1</td>\n",
       "      <td>1</td>\n",
       "      <td>0</td>\n",
       "    </tr>\n",
       "  </tbody>\n",
       "</table>\n",
       "</div>"
      ],
      "text/plain": [
       "   GraphID From  To Prod  CostPerUnit  MaxFlow\n",
       "0        1   S1  M1   P1            1     9999\n",
       "1        1   S2  M1   P1            1     9999\n",
       "2        1   S3  M1   P1            1     9999\n",
       "3        1   S1  M2   P1            1     9999\n",
       "4        1   S2  M2   P1            1        0"
      ]
     },
     "execution_count": 3,
     "metadata": {},
     "output_type": "execute_result"
    }
   ],
   "source": [
    "df = df.iloc[:,:6]\n",
    "df.head()"
   ]
  },
  {
   "cell_type": "code",
   "execution_count": 4,
   "metadata": {},
   "outputs": [],
   "source": [
    "df['H'] = df['From'] + '-' + df['Prod']\n",
    "df['I'] = df['To'] + '-' + df['Prod']\n",
    "Node_Table = pd.concat([df['H'],df['I']])\n",
    "Node_Table.drop_duplicates(inplace = True, ignore_index = True)\n",
    "Node_Names = list(Node_Table)\n",
    "Node_Table = Node_Table.to_frame().reset_index().rename(columns={'index': 'NodeID', 0: 'Node_Name'})\n",
    "Node_Table.NodeID += 1"
   ]
  },
  {
   "cell_type": "markdown",
   "metadata": {},
   "source": [
    "# Step 2"
   ]
  },
  {
   "cell_type": "code",
   "execution_count": 5,
   "metadata": {},
   "outputs": [
    {
     "data": {
      "text/html": [
       "<div>\n",
       "<style scoped>\n",
       "    .dataframe tbody tr th:only-of-type {\n",
       "        vertical-align: middle;\n",
       "    }\n",
       "\n",
       "    .dataframe tbody tr th {\n",
       "        vertical-align: top;\n",
       "    }\n",
       "\n",
       "    .dataframe thead th {\n",
       "        text-align: right;\n",
       "    }\n",
       "</style>\n",
       "<table border=\"1\" class=\"dataframe\">\n",
       "  <thead>\n",
       "    <tr style=\"text-align: right;\">\n",
       "      <th></th>\n",
       "      <th>NodeID</th>\n",
       "      <th>Node_Name</th>\n",
       "    </tr>\n",
       "  </thead>\n",
       "  <tbody>\n",
       "    <tr>\n",
       "      <th>0</th>\n",
       "      <td>1</td>\n",
       "      <td>S1-P1</td>\n",
       "    </tr>\n",
       "    <tr>\n",
       "      <th>1</th>\n",
       "      <td>2</td>\n",
       "      <td>S2-P1</td>\n",
       "    </tr>\n",
       "    <tr>\n",
       "      <th>2</th>\n",
       "      <td>3</td>\n",
       "      <td>S3-P1</td>\n",
       "    </tr>\n",
       "    <tr>\n",
       "      <th>3</th>\n",
       "      <td>4</td>\n",
       "      <td>M1-P1</td>\n",
       "    </tr>\n",
       "    <tr>\n",
       "      <th>4</th>\n",
       "      <td>5</td>\n",
       "      <td>M2-P1</td>\n",
       "    </tr>\n",
       "  </tbody>\n",
       "</table>\n",
       "</div>"
      ],
      "text/plain": [
       "   NodeID Node_Name\n",
       "0       1     S1-P1\n",
       "1       2     S2-P1\n",
       "2       3     S3-P1\n",
       "3       4     M1-P1\n",
       "4       5     M2-P1"
      ]
     },
     "execution_count": 5,
     "metadata": {},
     "output_type": "execute_result"
    }
   ],
   "source": [
    "Node_Table.head()"
   ]
  },
  {
   "cell_type": "code",
   "execution_count": 6,
   "metadata": {},
   "outputs": [],
   "source": [
    "graphID_col = [1]*len(Node_Table)\n",
    "temp_table = pd.DataFrame({'Node_ID_copy':Node_Table['NodeID'],'GraphID':[1]*len(Node_Table)})\n",
    "Node_Table = pd.concat([temp_table,Node_Table], axis = 1)"
   ]
  },
  {
   "cell_type": "code",
   "execution_count": 8,
   "metadata": {},
   "outputs": [],
   "source": [
    "import numpy as np"
   ]
  },
  {
   "cell_type": "code",
   "execution_count": 9,
   "metadata": {},
   "outputs": [],
   "source": [
    "with open('node_file_1.txt', 'w') as file:\n",
    "    for graph in GraphID_List:\n",
    "        values = Node_Table.values\n",
    "        np.savetxt(file, values, delimiter=\" \",fmt='%s')\n",
    "        Node_Table['GraphID'] += 1"
   ]
  },
  {
   "cell_type": "markdown",
   "metadata": {},
   "source": [
    "# Step 3"
   ]
  },
  {
   "cell_type": "code",
   "execution_count": 10,
   "metadata": {},
   "outputs": [
    {
     "data": {
      "text/html": [
       "<div>\n",
       "<style scoped>\n",
       "    .dataframe tbody tr th:only-of-type {\n",
       "        vertical-align: middle;\n",
       "    }\n",
       "\n",
       "    .dataframe tbody tr th {\n",
       "        vertical-align: top;\n",
       "    }\n",
       "\n",
       "    .dataframe thead th {\n",
       "        text-align: right;\n",
       "    }\n",
       "</style>\n",
       "<table border=\"1\" class=\"dataframe\">\n",
       "  <thead>\n",
       "    <tr style=\"text-align: right;\">\n",
       "      <th></th>\n",
       "      <th>edge_name_copy</th>\n",
       "      <th>GraphID</th>\n",
       "      <th>ANN_Source</th>\n",
       "      <th>ANN_Sink</th>\n",
       "      <th>Edge_Name</th>\n",
       "    </tr>\n",
       "  </thead>\n",
       "  <tbody>\n",
       "    <tr>\n",
       "      <th>0</th>\n",
       "      <td>S1-P1M1-P1</td>\n",
       "      <td>1</td>\n",
       "      <td>S1-P1</td>\n",
       "      <td>M1-P1</td>\n",
       "      <td>S1-P1M1-P1</td>\n",
       "    </tr>\n",
       "    <tr>\n",
       "      <th>1</th>\n",
       "      <td>S2-P1M1-P1</td>\n",
       "      <td>1</td>\n",
       "      <td>S2-P1</td>\n",
       "      <td>M1-P1</td>\n",
       "      <td>S2-P1M1-P1</td>\n",
       "    </tr>\n",
       "    <tr>\n",
       "      <th>2</th>\n",
       "      <td>S3-P1M1-P1</td>\n",
       "      <td>1</td>\n",
       "      <td>S3-P1</td>\n",
       "      <td>M1-P1</td>\n",
       "      <td>S3-P1M1-P1</td>\n",
       "    </tr>\n",
       "    <tr>\n",
       "      <th>3</th>\n",
       "      <td>S1-P1M2-P1</td>\n",
       "      <td>1</td>\n",
       "      <td>S1-P1</td>\n",
       "      <td>M2-P1</td>\n",
       "      <td>S1-P1M2-P1</td>\n",
       "    </tr>\n",
       "    <tr>\n",
       "      <th>5</th>\n",
       "      <td>S3-P1M2-P1</td>\n",
       "      <td>1</td>\n",
       "      <td>S3-P1</td>\n",
       "      <td>M2-P1</td>\n",
       "      <td>S3-P1M2-P1</td>\n",
       "    </tr>\n",
       "  </tbody>\n",
       "</table>\n",
       "</div>"
      ],
      "text/plain": [
       "  edge_name_copy  GraphID ANN_Source ANN_Sink   Edge_Name\n",
       "0     S1-P1M1-P1        1      S1-P1    M1-P1  S1-P1M1-P1\n",
       "1     S2-P1M1-P1        1      S2-P1    M1-P1  S2-P1M1-P1\n",
       "2     S3-P1M1-P1        1      S3-P1    M1-P1  S3-P1M1-P1\n",
       "3     S1-P1M2-P1        1      S1-P1    M2-P1  S1-P1M2-P1\n",
       "5     S3-P1M2-P1        1      S3-P1    M2-P1  S3-P1M2-P1"
      ]
     },
     "execution_count": 10,
     "metadata": {},
     "output_type": "execute_result"
    }
   ],
   "source": [
    "Edge_All = df[df.MaxFlow > 0][['GraphID','H', 'I']].copy()\n",
    "Edge_All.rename(columns={'H': 'ANN_Source', 'I':'ANN_Sink'}, inplace=True)\n",
    "Edge_All['Edge_Name'] = Edge_All.ANN_Source + Edge_All.ANN_Sink\n",
    "e_name = Edge_All.Edge_Name\n",
    "Edge_All.insert(loc=0, column='edge_name_copy', value = e_name)\n",
    "Edge_All.head()"
   ]
  },
  {
   "cell_type": "markdown",
   "metadata": {},
   "source": [
    "# Step 4"
   ]
  },
  {
   "cell_type": "code",
   "execution_count": 11,
   "metadata": {},
   "outputs": [],
   "source": [
    "with open('edge_file.txt', 'w') as edge_file:\n",
    "    np.savetxt(edge_file, Edge_All.values, delimiter= ' ', fmt = '%s')"
   ]
  },
  {
   "cell_type": "markdown",
   "metadata": {},
   "source": [
    "# Testing"
   ]
  },
  {
   "cell_type": "code",
   "execution_count": 41,
   "metadata": {},
   "outputs": [],
   "source": [
    "import numpy as np\n",
    "import pandas as pd"
   ]
  },
  {
   "cell_type": "code",
   "execution_count": 73,
   "metadata": {},
   "outputs": [],
   "source": [
    "def script(file_name):\n",
    "    df = pd.read_excel(file_name)\n",
    "\n",
    "    # Step 0\n",
    "    n = df.iloc[-1].GraphID\n",
    "    GraphID_List = list(range(1,n+1))\n",
    "\n",
    "    # Step 1\n",
    "    df = df.iloc[:,:6]\n",
    "    df['From']= df['From'].astype(str)\n",
    "    df['To']= df['To'].astype(str)\n",
    "    df['H'] = df['From'] + '-' + df['Prod']\n",
    "    df['I'] = df['To'] + '-' + df['Prod']\n",
    "\n",
    "    Node_Table = pd.concat([df['H'],df['I']])\n",
    "    Node_Table.drop_duplicates(inplace = True, ignore_index = True)\n",
    "    Node_Table = Node_Table.to_frame().reset_index().rename(columns={'index': 'NodeID', 0: 'Node_Name'})\n",
    "    Node_Table.NodeID += 1\n",
    "\n",
    "    # Step 2\n",
    "    graphID_col = [1]*len(Node_Table)\n",
    "    temp_table = pd.DataFrame({'Node_ID_copy':Node_Table['NodeID'],'GraphID':[1]*len(Node_Table)})\n",
    "    Node_Table = pd.concat([temp_table,Node_Table], axis = 1)\n",
    "\n",
    "    with open('node_file_1.txt', 'w') as file:\n",
    "        for graph in GraphID_List:\n",
    "            values = Node_Table.values\n",
    "            np.savetxt(file, values, delimiter=\" \",fmt='%s')\n",
    "            Node_Table['GraphID'] += 1\n",
    "\n",
    "    # Step 3\n",
    "    Edge_All = df[df.MaxFlow > 0][['H', 'I']].copy()\n",
    "    Edge_All.rename(columns={'H': 'ANN_Source', 'I':'ANN_Sink'}, inplace=True)\n",
    "    Edge_All['Edge_Name'] = Edge_All.ANN_Source + Edge_All.ANN_Sink\n",
    "    e_name = Edge_All.Edge_Name\n",
    "    Edge_All.insert(loc=0, column='edge_name_copy', value = e_name)\n",
    "\n",
    "    # Step 4\n",
    "    with open('edge_file.txt', 'w') as edge_file:\n",
    "        np.savetxt(edge_file, Edge_All.values, delimiter= ' ', fmt = '%s')\n"
   ]
  },
  {
   "cell_type": "code",
   "execution_count": 86,
   "metadata": {},
   "outputs": [
    {
     "name": "stdout",
     "output_type": "stream",
     "text": [
      "33.8 ms ± 9.18 ms per loop (mean ± std. dev. of 7 runs, 10 loops each)\n",
      "70.5 ms ± 22.9 ms per loop (mean ± std. dev. of 7 runs, 10 loops each)\n",
      "364 ms ± 75.3 ms per loop (mean ± std. dev. of 7 runs, 1 loop each)\n",
      "2.47 s ± 352 ms per loop (mean ± std. dev. of 7 runs, 1 loop each)\n"
     ]
    }
   ],
   "source": [
    "files = ['1_graph_sample.xlsm', '10_graph_sample.xlsm', '100_graph_sample.xlsm', '1000_graph_sample.xlsm']\n",
    "g_times = {}\n",
    "for i in range(len(files)):\n",
    "    res = %timeit -o script(files[i])\n",
    "    g_times[10**i] = res.average"
   ]
  },
  {
   "cell_type": "code",
   "execution_count": 43,
   "metadata": {},
   "outputs": [],
   "source": [
    "import matplotlib.pyplot as plt"
   ]
  },
  {
   "cell_type": "code",
   "execution_count": 87,
   "metadata": {},
   "outputs": [
    {
     "data": {
      "image/png": "[encoded data removed]",
      "text/plain": [
       "<Figure size 640x480 with 1 Axes>"
      ]
     },
     "metadata": {},
     "output_type": "display_data"
    }
   ],
   "source": [
    "lists = sorted(g_times.items())\n",
    "num_graphs, run_time = zip(*lists)\n",
    "\n",
    "plt.plot(num_graphs, run_time, marker='o')\n",
    "plt.yscale('log')\n",
    "plt.xscale('log')\n",
    "plt.gca().spines[['top', 'right']].set_visible(False)\n",
    "\n",
    "for i, (xi, yi) in enumerate(zip(num_graphs, run_time)):\n",
    "    plt.annotate(f'({xi}, {round(yi, 3)})', (xi, yi), textcoords=\"offset fontsize\", xytext=(.5, -.5))\n",
    "\n",
    "plt.ylabel('Run Time (seconds)')\n",
    "plt.xlabel('Number of Graphs')\n",
    "\n",
    "plt.show()"
   ]
  },
  {
   "cell_type": "markdown",
   "metadata": {},
   "source": [
    "presumption here is that there is some O(1) task that takes roughly 30ms, and the rest of the script is O(n), which comes to dominate with larger n."
   ]
  },
  {
   "cell_type": "code",
   "execution_count": 80,
   "metadata": {},
   "outputs": [
    {
     "name": "stdout",
     "output_type": "stream",
     "text": [
      "28.9 ms ± 8.35 ms per loop (mean ± std. dev. of 7 runs, 10 loops each)\n",
      "25.7 ms ± 4.83 ms per loop (mean ± std. dev. of 7 runs, 10 loops each)\n",
      "28.9 ms ± 2.99 ms per loop (mean ± std. dev. of 7 runs, 10 loops each)\n",
      "57.6 ms ± 5.54 ms per loop (mean ± std. dev. of 7 runs, 10 loops each)\n",
      "235 ms ± 16.4 ms per loop (mean ± std. dev. of 7 runs, 1 loop each)\n"
     ]
    }
   ],
   "source": [
    "files = ['4_node_sample.xlsm', '16_node_sample.xlsm', '64_node_sample.xlsm', '256_node_sample.xlsm', '1024_node_sample.xlsm']\n",
    "n_times = {}\n",
    "for i in range(len(files)):\n",
    "    res = %timeit -o script(files[i])\n",
    "    n_times[4**i] = res.average"
   ]
  },
  {
   "cell_type": "code",
   "execution_count": 90,
   "metadata": {},
   "outputs": [
    {
     "data": {
      "image/png": "[encoded data removed]",
      "text/plain": [
       "<Figure size 640x480 with 1 Axes>"
      ]
     },
     "metadata": {},
     "output_type": "display_data"
    }
   ],
   "source": [
    "lists = sorted(n_times.items())\n",
    "num_nodes, run_time = zip(*lists)\n",
    "\n",
    "plt.plot(num_nodes, run_time, marker='o')\n",
    "plt.yscale('log', base = 4)\n",
    "plt.xscale('log', base = 4)\n",
    "plt.gca().spines[['top', 'right']].set_visible(False)\n",
    "\n",
    "for i, (xi, yi) in enumerate(zip(num_nodes, run_time)):\n",
    "    plt.annotate(f'({xi}, {round(yi, 3)})', (xi, yi), textcoords=\"offset fontsize\", xytext=(.5, -.5))\n",
    "\n",
    "plt.ylabel('Run Time (seconds)')\n",
    "plt.xlabel('Number of Nodes per Graph')\n",
    "\n",
    "plt.show()"
   ]
  },
  {
   "cell_type": "markdown",
   "metadata": {},
   "source": [
    "the time complexity with respect to the number of nodes per graph is n*log(n) because pandas's drop_duplicates() method sorts the elements before checking for duplicates, and that sorting algorithm's time complexity is n*log(n). There are ways to remove duplicates in O(n) time, and that may be worth testing depending on the size of the final data set; however this operation is performed once regardless of graph or node count and it is still fairly efficient (only takes 0.235 seconds in the worst case)."
   ]
  }
 ],
 "metadata": {
  "kernelspec": {
   "display_name": "enviro1",
   "language": "python",
   "name": "python3"
  },
  "language_info": {
   "codemirror_mode": {
    "name": "ipython",
    "version": 3
   },
   "file_extension": ".py",
   "mimetype": "text/x-python",
   "name": "python",
   "nbconvert_exporter": "python",
   "pygments_lexer": "ipython3",
   "version": "3.11.5"
  }
 },
 "nbformat": 4,
 "nbformat_minor": 2
}
