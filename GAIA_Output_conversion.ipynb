{
 "cells": [
  {
   "cell_type": "code",
   "execution_count": 1,
   "metadata": {},
   "outputs": [],
   "source": [
    "import pandas as pd"
   ]
  },
  {
   "cell_type": "code",
   "execution_count": 2,
   "metadata": {},
   "outputs": [],
   "source": [
    "feature_count = 96\n",
    "graph_count = 63"
   ]
  },
  {
   "cell_type": "markdown",
   "metadata": {},
   "source": [
    "## Read in positive and negative graph IDs"
   ]
  },
  {
   "cell_type": "code",
   "execution_count": 3,
   "metadata": {},
   "outputs": [],
   "source": [
    "feature_count = 96\n",
    "graph_count = 63\n",
    "graphIDs = ['']*feature_count\n",
    "pattern_codes = {}\n",
    "\n",
    "with open('featureResult copy.txt') as file:\n",
    "    #graphIDs = file.readlines()[5::8]\n",
    "\n",
    "    for i, line in enumerate(file):\n",
    "        if i % 3 == 0:\n",
    "            pattern_codes[(i//3) + 1] = [int(ele) for ele in line[:-2].split()] \n",
    "        if i % 3 == 1:\n",
    "            graphIDs[i//3] = line[:-2]\n",
    "        if i % 3 == 2:\n",
    "            if len(line) > 2:\n",
    "                graphIDs[i//3] += ' ' + line[:-2]\n",
    "        "
   ]
  },
  {
   "cell_type": "markdown",
   "metadata": {},
   "source": [
    "numbers in pattern codes are node/edge labels not node/edge IDs!!!!"
   ]
  },
  {
   "cell_type": "markdown",
   "metadata": {},
   "source": [
    "## Convert each feature's graph IDs to list of ints\n",
    "need to find a way to do this with negative graph IDs without loosing the feature that it is associated with"
   ]
  },
  {
   "cell_type": "code",
   "execution_count": 6,
   "metadata": {},
   "outputs": [],
   "source": [
    "for i, lst in enumerate(graphIDs):\n",
    "    lst = lst.split()\n",
    "    for j, gID in enumerate(lst):\n",
    "        lst[j] = int(gID)\n",
    "    graphIDs[i] = lst\n",
    "\n"
   ]
  },
  {
   "cell_type": "markdown",
   "metadata": {},
   "source": [
    "## Create DataFrame"
   ]
  },
  {
   "cell_type": "code",
   "execution_count": 7,
   "metadata": {},
   "outputs": [],
   "source": [
    "data = {}\n",
    "for i, lst in enumerate(graphIDs):\n",
    "    tmp = [0] * graph_count\n",
    "    for gID in lst:\n",
    "        tmp[gID] = 1\n",
    "    data[i] = tmp\n",
    "\n",
    "df = pd.DataFrame(data, columns=list(range(feature_count)))"
   ]
  },
  {
   "cell_type": "markdown",
   "metadata": {},
   "source": [
    "# All together"
   ]
  },
  {
   "cell_type": "code",
   "execution_count": 11,
   "metadata": {},
   "outputs": [
    {
     "name": "stdout",
     "output_type": "stream",
     "text": [
      "6.01 ms ± 1.39 ms per loop (mean ± std. dev. of 7 runs, 100 loops each)\n"
     ]
    }
   ],
   "source": [
    "%%timeit\n",
    "feature_count = 96\n",
    "graph_count = 63\n",
    "\n",
    "graphIDs = ['']*feature_count\n",
    "\n",
    "with open('featureResult copy.txt') as file:\n",
    "    for i, line in enumerate(file):\n",
    "        if i % 3 == 1:\n",
    "            graphIDs[i//3] = line[:-2]\n",
    "        if i % 3 == 2:\n",
    "            if len(line) > 2:\n",
    "                graphIDs[i//3] += ' ' + line[:-2]\n",
    "    \n",
    "\n",
    "data = {}\n",
    "for i, lst in enumerate(graphIDs):\n",
    "    tmp = [0] * graph_count\n",
    "    lst = lst.split()\n",
    "    for gID in lst:\n",
    "        tmp[int(gID)] = 1\n",
    "    data[i] = tmp        \n",
    "\n",
    "\n",
    "df = pd.DataFrame(data, columns=list(range(feature_count)))"
   ]
  }
 ],
 "metadata": {
  "kernelspec": {
   "display_name": "enviro1",
   "language": "python",
   "name": "python3"
  },
  "language_info": {
   "codemirror_mode": {
    "name": "ipython",
    "version": 3
   },
   "file_extension": ".py",
   "mimetype": "text/x-python",
   "name": "python",
   "nbconvert_exporter": "python",
   "pygments_lexer": "ipython3",
   "version": "3.11.5"
  }
 },
 "nbformat": 4,
 "nbformat_minor": 2
}
